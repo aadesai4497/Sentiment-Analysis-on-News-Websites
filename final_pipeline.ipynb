{
 "cells": [
  {
   "attachments": {},
   "cell_type": "markdown",
   "metadata": {},
   "source": [
    "\n",
    "<h2>Aim: To extract news headlines from each source, and check for outliers in case of reporters 'writers' sentiments</h2>\n"
   ]
  },
  {
   "cell_type": "code",
   "execution_count": 7,
   "metadata": {},
   "outputs": [
    {
     "name": "stderr",
     "output_type": "stream",
     "text": [
      "[nltk_data] Downloading package wordnet to\n",
      "[nltk_data]     C:\\Users\\Chetan\\AppData\\Roaming\\nltk_data...\n",
      "[nltk_data]   Package wordnet is already up-to-date!\n"
     ]
    },
    {
     "data": {
      "text/plain": [
       "True"
      ]
     },
     "execution_count": 7,
     "metadata": {},
     "output_type": "execute_result"
    }
   ],
   "source": [
    "#libraries for data extraction\n",
    "import os\n",
    "from selenium import webdriver\n",
    "from webdriver_manager.chrome import ChromeDriverManager\n",
    "from selenium.webdriver.chrome.options import Options\n",
    "from selenium.webdriver import ActionChains\n",
    "import bs4\n",
    "import time\n",
    "import requests\n",
    "import warnings\n",
    "warnings.filterwarnings(\"ignore\")\n",
    "\n",
    "import re,string,unicodedata\n",
    "import seaborn as sns\n",
    "import numpy as np\n",
    "import matplotlib.pyplot as plt\n",
    "import pandas as pd\n",
    "\n",
    "# NLP Libs\n",
    "import nltk\n",
    "from nltk.corpus import stopwords\n",
    "from nltk.stem.porter import PorterStemmer\n",
    "from nltk.stem import WordNetLemmatizer\n",
    "from sklearn.feature_extraction.text import CountVectorizer\n",
    "from sklearn.feature_extraction.text import TfidfVectorizer\n",
    "from sklearn.feature_extraction.text import ENGLISH_STOP_WORDS\n",
    "from sklearn.cluster import KMeans\n",
    "from sklearn.utils.extmath import randomized_svd\n",
    "from vaderSentiment.vaderSentiment import SentimentIntensityAnalyzer\n",
    "\n",
    "# Additional Libs\n",
    "from sklearn.metrics import classification_report,confusion_matrix,accuracy_score\n",
    "from sklearn.model_selection import train_test_split\n",
    "from string import punctuation\n",
    "from nltk import pos_tag\n",
    "from nltk.corpus import wordnet\n",
    "\n",
    "# Download corpus\n",
    "nltk.download('wordnet')"
   ]
  },
  {
   "attachments": {},
   "cell_type": "markdown",
   "metadata": {},
   "source": [
    "<h1>Part 1: Data Extraction </h1>\n",
    "done using respective .ipynb notebooks"
   ]
  },
  {
   "cell_type": "markdown",
   "metadata": {},
   "source": [
    "<h1>Part 2: Processing Data into Sentiments</h1>"
   ]
  },
  {
   "cell_type": "code",
   "execution_count": 14,
   "metadata": {},
   "outputs": [],
   "source": [
    "df = pd.DataFrame(columns=['headline', 'article_text', 'source','bias',\t'cleaned_text',\t'compound',\t'positive',\t'neutral','negative'])\n",
    "\n",
    "headline = []\n",
    "article_text = []\n",
    "source = []\n",
    "bias = []\n",
    "names = ['ndtv','indianexpress','newsexp']\n",
    "\n",
    "for j in names:\n",
    "  for i in range(30): #add range here based on number of scraped articles\n",
    "    try:\n",
    "      with open(f'{j}/{j}_{i}.txt', 'r') as f:\n",
    "        # read first line as headline\n",
    "        head = f.readline()\n",
    "        head = head.strip()\n",
    "        headline.append(head)\n",
    "\n",
    "        # read all other lines as the article body, join to convert list to string\n",
    "        lines = f.readlines()\n",
    "        lines = ''.join(lines[0::1])\n",
    "        article_text.append(lines)\n",
    "\n",
    "        #append source and bias to the list\n",
    "        source.append(j)\n",
    "        \n",
    "        if str(j) == 'ndtv':\n",
    "          bias.append('L')\n",
    "        elif str(j) == 'indianexpress':\n",
    "          bias.append('N')\n",
    "        elif str(j) == 'newsexp':\n",
    "          bias.append('R')\n",
    "    except:\n",
    "      continue\n",
    "\n",
    "# add all lists to the dataframe\n",
    "df[\"headline\"] = headline\n",
    "df['article_text'] = article_text\n",
    "df['source'] = source\n",
    "df['bias'] = bias\n",
    "\n",
    "df_formed = df.dropna(subset = [\"article_text\",\"headline\"])\n",
    "\n",
    "df_formed.to_csv('nlpdata_trial.csv')\n",
    "\n",
    "# function for cleaning the data, remove tweet text, ads etc.\n",
    "def clean(text): \n",
    "    text = str(text)\n",
    "    text = text.lower()  \n",
    "    text = re.sub('[^a-zA-Z]', ' ', text)\n",
    "    text = re.sub(r\"\\s+[a-zA-Z]\\s+\", ' ', text)\n",
    "    text = re.sub(r'\\s+', ' ', text)\n",
    "    stops = ENGLISH_STOP_WORDS\n",
    "    text = [w for w in text.split() if not w in stops]\n",
    "    lemmatizer = WordNetLemmatizer()\n",
    "    text = [lemmatizer.lemmatize(word) for word in text]\n",
    "    text = [ word for word in text if len(word) > 1 ]\n",
    "    text = \" \".join(text)\n",
    "    return text\n",
    "\n",
    "df_formed['cleaned_text'] = df_formed['article_text'].apply(clean)\n",
    "\n",
    "analyzer = SentimentIntensityAnalyzer()\n",
    "\n",
    "# use VADER for finding compound, positive, negative, neutral sentiments\n",
    "def compound(doc):\n",
    "   analyzer= SentimentIntensityAnalyzer()\n",
    "   score_compound = analyzer.polarity_scores(doc)['compound']\n",
    "   return score_compound\n",
    "\n",
    "def pos(doc):\n",
    "   analyzer= SentimentIntensityAnalyzer()\n",
    "   score_pos = analyzer.polarity_scores(doc)['pos']\n",
    "   return score_pos\n",
    "\n",
    "def neu(doc):\n",
    "   analyzer= SentimentIntensityAnalyzer()\n",
    "   score_neu = analyzer.polarity_scores(doc)['neu']\n",
    "   return score_neu\n",
    "\n",
    "def neg(doc):\n",
    "   analyzer= SentimentIntensityAnalyzer()\n",
    "   score_neg = analyzer.polarity_scores(doc)['neg']\n",
    "\n",
    "   return score_neg\n",
    "\n",
    "# adding to the dataframe\n",
    "\n",
    "df_formed['compound'] = df_formed['cleaned_text'].apply(compound)\n",
    "df_formed['positive'] = df_formed['cleaned_text'].apply(pos)\n",
    "df_formed['neutral'] = df_formed['cleaned_text'].apply(neu)\n",
    "df_formed['negative'] = df_formed['cleaned_text'].apply(neg)\n",
    "\n",
    "# deleting redundant column\n",
    "try:\n",
    "  df_formed.drop(['Unnamed: 0'], axis = 1)\n",
    "except:\n",
    "  pass  "
   ]
  },
  {
   "cell_type": "markdown",
   "metadata": {},
   "source": [
    "<h1>Part 3: Anomaly Detection using Isolation Forest</h1>"
   ]
  },
  {
   "cell_type": "code",
   "execution_count": 15,
   "metadata": {},
   "outputs": [
    {
     "data": {
      "text/plain": [
       "<Figure size 2160x2160 with 0 Axes>"
      ]
     },
     "metadata": {},
     "output_type": "display_data"
    },
    {
     "data": {
      "image/png": "[encoded data removed]",
      "text/plain": [
       "<Figure size 402.375x360 with 1 Axes>"
      ]
     },
     "metadata": {
      "needs_background": "light"
     },
     "output_type": "display_data"
    },
    {
     "data": {
      "text/plain": [
       "<Figure size 2160x2160 with 0 Axes>"
      ]
     },
     "metadata": {},
     "output_type": "display_data"
    },
    {
     "data": {
      "image/png": "[encoded data removed]",
      "text/plain": [
       "<Figure size 402.375x360 with 1 Axes>"
      ]
     },
     "metadata": {
      "needs_background": "light"
     },
     "output_type": "display_data"
    },
    {
     "name": "stdout",
     "output_type": "stream",
     "text": [
      "\n",
      "Number of anomalies in the dataset:  30\n"
     ]
    },
    {
     "data": {
      "text/plain": [
       "<Figure size 360x360 with 0 Axes>"
      ]
     },
     "metadata": {},
     "output_type": "display_data"
    },
    {
     "data": {
      "image/png": "[encoded data removed]",
      "text/plain": [
       "<Figure size 448x360 with 1 Axes>"
      ]
     },
     "metadata": {
      "needs_background": "light"
     },
     "output_type": "display_data"
    }
   ],
   "source": [
    "from sklearn.ensemble import IsolationForest\n",
    "\n",
    "\n",
    "negative = df_formed[df_formed['compound']<0]\n",
    "\n",
    "positive = df_formed[df_formed['compound']>0]\n",
    "\n",
    "neutral = df_formed[df_formed['compound']==0]\n",
    "\n",
    "df_formed.to_csv('nlp_sentiments.csv')\n",
    "\n",
    "df = pd.read_csv('nlp_sentiments.csv')\n",
    "\n",
    "cleanup_nums = {\"source\":     {'ndtv':0, 'indianexpress':1, 'newsexp':2},\n",
    "                \"bias\":     {'L':0, 'N':1, 'R':2}}\n",
    "df = df.replace(cleanup_nums)\n",
    "\n",
    "plt.figure(figsize=(30,30))\n",
    "sns.lmplot(\"source\", \"compound\",data=df, hue='source', fit_reg=False, palette = 'rocket');\n",
    "plt.title(\"Source vs Compound polarity plot\")\n",
    "plt.ylabel(\"Compound polarity\")\n",
    "plt.xlabel(\"Source\")\n",
    "plt.gca().invert_xaxis()\n",
    "plt.show()\n",
    "\n",
    "plt.figure(figsize=(30,30))\n",
    "sns.lmplot(\"positive\", \"negative\",data=df, hue='source', fit_reg=False, palette = 'rocket');\n",
    "plt.title(\"Positive vs Negative sentiments\")\n",
    "plt.ylabel(\"Negative\")\n",
    "plt.xlabel(\"Positive\")\n",
    "plt.show()\n",
    "\n",
    "anomoly_fraction = len(positive)/float(len(negative+neutral))\n",
    "\n",
    "model = IsolationForest(random_state=1, contamination=anomoly_fraction)\n",
    "\n",
    "cleanup_nums = {\"source\":     {'ndtv':0, 'indianexpress':1, 'newsexp':2},\n",
    "                \"bias\":     {'L':0, 'N':1, 'R':2}}\n",
    "df_formed = df_formed.replace(cleanup_nums)\n",
    "\n",
    "model.fit(df_formed[['source']])\n",
    "\n",
    "df_formed['scores'] = model.decision_function(df_formed[['source']])\n",
    "df_formed['anomaly_scores'] = model.predict(df_formed[['source']])\n",
    "anomaly_count = df_formed[df_formed['anomaly_scores']<=0]\n",
    "anomaly_count = anomaly_count.shape[0]\n",
    "print('\\nNumber of anomalies in the dataset: ',anomaly_count)\n",
    "\n",
    "X_train = df_formed[['compound']]\n",
    "model.fit(X_train)\n",
    "y_train = model.predict(X_train)\n",
    "plt.figure(figsize=(5,5))\n",
    "# sns.scatterplot(data=df, x=\"source\", y=\"compound\" , hue = y_train, palette = 'flare')\n",
    "sns.lmplot(\"positive\", \"negative\",data=df_formed, hue='anomaly_scores', fit_reg=False, palette = 'rocket');\n",
    "plt.xlabel('Positive');\n",
    "plt.ylabel('Negative');"
   ]
  },
  {
   "attachments": {},
   "cell_type": "markdown",
   "metadata": {},
   "source": [
    "<h1> Conclusion</h1>\n",
    "<h2>\n",
    "<ol>\n",
    "<li>In this project, we learned how to extract data from websites, then convert the data to useful information using sentiment analysis, and then used Isolation Forest to find out anomalies. From our testing on the keyword \"Kashmir\" we found 30 anomalies in a total of 90 entries</li>\n",
    "<li>There is a higher number of anomalies than expected. The reason is that using only 1 keyword results in too broad a \"search area\".</li>\n",
    "</ol>\n",
    "</h2>\n",
    "<h1> Future Scope</h1>\n",
    "<h2>\n",
    "<ol>\n",
    "<li>Due to website constraints, we are only able to use one keyword at a go. We aim to increase the number of keywords so that we can more specific events which will help reduce the number of anomalies</li>\n",
    "<li>We can use methods other than VADER for sentiment analysis to get more parameters, thus be able to make better anomaly detections</li>\n",
    "</ol>\n",
    "</h2>"
   ]
  }
 ],
 "metadata": {
  "kernelspec": {
   "display_name": "Python 3.8.5 64-bit",
   "language": "python",
   "name": "python3"
  },
  "language_info": {
   "codemirror_mode": {
    "name": "ipython",
    "version": 3
   },
   "file_extension": ".py",
   "mimetype": "text/x-python",
   "name": "python",
   "nbconvert_exporter": "python",
   "pygments_lexer": "ipython3",
   "version": "3.8.5 (tags/v3.8.5:580fbb0, Jul 20 2020, 15:57:54) [MSC v.1924 64 bit (AMD64)]"
  },
  "orig_nbformat": 4,
  "vscode": {
   "interpreter": {
    "hash": "3d672846ab64b82076aed6296bcd726f37be2436147769694f382e623919a046"
   }
  }
 },
 "nbformat": 4,
 "nbformat_minor": 2
}
