{
 "cells": [
  {
   "cell_type": "code",
   "execution_count": 2,
   "metadata": {},
   "outputs": [
    {
     "name": "stderr",
     "output_type": "stream",
     "text": [
      "[nltk_data] Downloading package wordnet to\n",
      "[nltk_data]     C:\\Users\\Chetan\\AppData\\Roaming\\nltk_data...\n",
      "[nltk_data]   Package wordnet is already up-to-date!\n"
     ]
    },
    {
     "data": {
      "text/plain": [
       "True"
      ]
     },
     "execution_count": 2,
     "metadata": {},
     "output_type": "execute_result"
    }
   ],
   "source": [
    "#libraries for data extraction\n",
    "import os\n",
    "from selenium import webdriver\n",
    "from webdriver_manager.chrome import ChromeDriverManager\n",
    "from selenium.webdriver.chrome.options import Options\n",
    "from selenium.webdriver import ActionChains\n",
    "import bs4\n",
    "import time\n",
    "import requests\n",
    "import warnings\n",
    "warnings.filterwarnings(\"ignore\")\n",
    "\n",
    "import re,string,unicodedata\n",
    "import seaborn as sns\n",
    "import numpy as np\n",
    "import matplotlib.pyplot as plt\n",
    "import pandas as pd\n",
    "\n",
    "# NLP Libs\n",
    "import nltk\n",
    "from nltk.corpus import stopwords\n",
    "from nltk.stem.porter import PorterStemmer\n",
    "from nltk.stem import WordNetLemmatizer\n",
    "from sklearn.feature_extraction.text import CountVectorizer\n",
    "from sklearn.feature_extraction.text import TfidfVectorizer\n",
    "from sklearn.feature_extraction.text import ENGLISH_STOP_WORDS\n",
    "from sklearn.cluster import KMeans\n",
    "from sklearn.utils.extmath import randomized_svd\n",
    "from vaderSentiment.vaderSentiment import SentimentIntensityAnalyzer\n",
    "\n",
    "# Additional Libs\n",
    "from sklearn.metrics import classification_report,confusion_matrix,accuracy_score\n",
    "from sklearn.model_selection import train_test_split\n",
    "from string import punctuation\n",
    "from nltk import pos_tag\n",
    "from nltk.corpus import wordnet\n",
    "\n",
    "# Download corpus\n",
    "nltk.download('wordnet')"
   ]
  },
  {
   "cell_type": "code",
   "execution_count": 3,
   "metadata": {},
   "outputs": [],
   "source": [
    "keys = str(input(\"Enter a one-word keyword about the topic you want to search: \"))"
   ]
  },
  {
   "cell_type": "code",
   "execution_count": 4,
   "metadata": {},
   "outputs": [
    {
     "name": "stdout",
     "output_type": "stream",
     "text": [
      "https://www.newindianexpress.com/topic?term=kashmir&request=ALL&search=short\n"
     ]
    }
   ],
   "source": [
    "newindianexpress_url = \"https://www.newindianexpress.com/topic?term=\" + keys + \"&request=ALL&search=short\"\n",
    "print(newindianexpress_url)"
   ]
  },
  {
   "cell_type": "code",
   "execution_count": 7,
   "metadata": {},
   "outputs": [
    {
     "name": "stderr",
     "output_type": "stream",
     "text": [
      "\n",
      "\n",
      "====== WebDriver manager ======\n",
      "Current google-chrome version is 108.0.5359\n",
      "Get LATEST driver version for 108.0.5359\n",
      "Driver [C:\\Users\\Chetan\\.wdm\\drivers\\chromedriver\\win32\\108.0.5359.71\\chromedriver.exe] found in cache\n"
     ]
    },
    {
     "name": "stdout",
     "output_type": "stream",
     "text": [
      "Nine Kashmiri Pandits killed in Jammu and Kashmir in 3 years: Govt\n",
      "Union Minister of State for Home Nityanand Rai said four Kashmiri Pandits were killed in 2022 and as many in 2021, while one was killed in 2020.\n",
      "published on : 14th December 2022\n",
      "ITA Awards 2022: Varun Dhawan wins ‘Actor of the Decade’; The Kashmir Files bags Golden Laurel\n",
      "With the 22nd ITA Awards announced, here’s how the event unfolded\n",
      "published on : 14th December 2022\n",
      "India slams: ‘OIC has no locus standi on Kashmir’\n",
      "The OIC has a 57-member group of largely Muslim-majority nations and India has said that the OIC has already lost its credibility.\n",
      "published on : 14th December 2022\n",
      "Retired govt official, wife killed as car plunges into gorge in Jammu and Kashmir\n",
      "Mangat Ram (62) and his wife Shakuntla Devi (58) were on their way to Jammu from their Gandoh residence and the accident occured near Jathi village.\n",
      "published on : 13th December 2022\n",
      "Not 11, this Kashmiri man uses 16 ingredients for his special kehwa\n",
      "His kehwa includes saffron, almond, walnut, cashew nut, honey, cinnamon, ginger, sangram, chai pati, rose petals, dates and cardamom.\n",
      "published on : 13th December 2022\n",
      "Re-poll in two DDC constituencies of Jammu and Kashmir\n",
      "The State Election Commissioner has appealed voters to come out and cast their votes without any fear and strengthen the democratic process by participating in large numbers, the officials said.\n",
      "published on : 5th December 2022\n",
      "'The Kashmir Files' row: Three IFFI jurors back Nadav Lapid, Indian member Sen differs\n",
      "The film, which opened to polarised reactions on March 11, is one of the most commercially successful Hindi films of the year.\n",
      "published on : 4th December 2022\n",
      "The Kashmir Files is disguised as a film\n",
      "Some think of Battleship Potemkin by Sergei Eisenstein as a propaganda movie, but it's a masterpiece.\n",
      "published on : 3rd December 2022\n",
      "Agri university professor arrested in Jammu and Kashmir after student alleges sexual harassment\n",
      "The students demanded stern action against the accused who is the head of the division of agriculture extension and communication at the university.\n",
      "published on : 3rd December 2022\n",
      "'The Kashmir Files' controversy: Apologies if my remarks were interpreted differently, says Nadav Lapid\n",
      "The acclaimed director, known for his anti-establishment stance, said his remarks were neither a statement on the political situation in Kashmir nor a denial of the tragedy.\n",
      "published on : 1st December 2022\n",
      "Who is the Israeli filmmaker who criticized ‘The Kashmir Files’ at IFFI?\n",
      "Nadav Lapid, a writer and filmmaker, recepient of the Chevalier des Arts et des Lettres, called the Indian film 'The Kashmir Files', \"vulgar\" and \"propaganda\" at IFFI held in Goa.\n",
      "published on : 29th November 2022\n",
      "Women in this north Kashmir town grow mushrooms for income\n",
      "The district administration provides an initial support fund of Rs 15,000 to each women entrepreneur along with 100 bags of mushroom seeds known as spawn.\n",
      "published on : 29th November 2022\n",
      "Israeli director under fire for comments on 'The Kashmir Files', international jury says 'personal opinion' \n",
      "A day after the director described the 'The Kashmir Files' as \"propaganda\" and \"vulgar\", BJP leaders, actors and the film's director Vivek Agnihotri also joined the discourse against him.\n",
      "published on : 29th November 2022\n",
      "SC lawyer files police complaint against IFFI jury head for remarks on 'The Kashmir Files'\n",
      "The film 'The Kashmir Files' is based on the 'exodus and killings' of Kashmiri Pandits in the Valley in the 1990s by Islamic terrorists.\n",
      "published on : 29th November 2022\n",
      "\"Hate gets called out, eventually\": Congress on Israeli filmmaker's criticism of 'The Kashmir Files' \n",
      "The attack by the Opposition party leaders came after Lapid, the jury head of the 53rd International Film Festival of India (IFFI), on Monday described the Hindi film as \"propaganda\" and \"vulgar\".\n",
      "published on : 29th November 2022\n",
      "BJP's IT department head Amit Malviya slams Israeli filmmaker's criticism of 'Kashmir Files'\n",
      "The party's IT department head said, \"For the longest time, people even denied the Holocaust and called Schindler's List a 'propaganda', just like some are doing to Kashmir Files.\n",
      "published on : 29th November 2022\n",
      "Vivek Agnihotri takes indirect dig at IFFI jury head for comments on 'The Kashmir Files'\n",
      "Jury Head Nadav Lapid had called 'The Kashmir Files' a \"propaganda, vulgar film\", adding that he was \"shocked\" to see the film in the competition section of such a prestigious film festival.\n",
      "published on : 29th November 2022\n",
      "'You should be ashamed': Envoy to Israeli filmmaker on 'Kashmir Files' remark row\n",
      "Gilon, in a series of tweets, rebuked Lapid and emphasized how the friendship between the people and the states of India and Israel is very strong and will survive the damage inflicted by him.\n",
      "published on : 29th November 2022\n",
      "\"Shameful\" says Anupam Kher after IFFI Jury head calls 'The Kashmir Files' as 'propaganda film'\n",
      "Lapid termed 'The Kashmir Files' a \"propaganda, vulgar film\", adding that he was \"shocked\" to see the film in the competition section of such a prestigious film festival.\n",
      "published on : 29th November 2022\n",
      "IFFI jury head describes 'The Kashmir Files' as 'propaganda' and 'vulgar'\n",
      "Nadav Lapid described The Kashmir Files as \"propaganda\" and \"vulgar\" in the presence of Union information and broadcasting minister Anurag Thakur.\n",
      "published on : 29th November 2022\n",
      "Kashmiri Pandits hold barefoot march in Jammu, demand to ensure their 'Right to Life'\n",
      "\"The people of Kashmir are with us in this fight. Kashmiri Pandits are becoming scapegoats due to the targeted killings. The migrant workers from other states are being killed,\" protestor said.\n",
      "published on : 27th November 2022\n",
      "Jammu and Kashmir: Mother, son burnt alive after LPG cylinder catches fire and explodes\n",
      "At least one dozen livestock also died in the incident.\n",
      "published on : 24th November 2022\n",
      "Probe over online threats: Houses, offices of journalists raided in Jammu and Kashmir\n",
      "It said the ongoing searches were undertaken following leads received during similar searches a few days ago in the same case.\n",
      "published on : 24th November 2022\n",
      "Bihar labourers ‘vow’ to never go back to Jammu and Kashmir after terrorist attack\n",
      "In the terrorist attack in J&K’s Anantnag district on November 3, a migrant worker from Bihar, Bhikhu alias Raju Ram, and a Nepali Bahadur Thapa were injured.\n",
      "published on : 21st November 2022\n",
      "India rebukes Pak for raising Kashmir issue in UN assenbly\n",
      "India’s Permanent Representative to the UN, Ambassador Ruchira Kamboj spoke on behalf of the Group of Four, which also comprises Brazil, Germany and Japan.\n",
      "published on : 19th November 2022\n",
      "‘Kashmir not safe’: Pandits write to Prez Murmu\n",
      "Pandit employees posted in the Valley have alleged that they were forced to sign bonds before joining government jobs in militancy-hit Kashmir.\n",
      "published on : 18th November 2022\n",
      "Threat to Kashmir journalists may have originated from Turkey-based terrorist: Report \n",
      "As per the intelligence dossier, \"initial assessment suggests that terrorist Mukhtar Baba is the mastermind\" behind the threats.\n",
      "published on : 18th November 2022\n",
      "Five Kashmir journalists quit over militant threat\n",
      "Police says militant outfit The Resistance Front (TRF), an offshoot of the Lashkar-e-Taiba (LeT) is behind these threats.\n",
      "published on : 17th November 2022\n",
      "Long power cuts, Kashmir Valley braces for cold, dark winter ahead\n",
      "Residents in Srinagar and other parts of the Valley are complaining that the power development department is already resorting to lengthy and pesky power cuts.\n",
      "published on : 16th November 2022\n",
      "Three govt officials dead as vehicle plunges into gorge in Jammu and Kashmir's Doda\n",
      "The vehicle was carrying a team of the Roads and Building department when it met with the accident near Assar on the Batote-Kishtwar national highway around 10.45 am.\n",
      "published on : 14th November 2022\n"
     ]
    }
   ],
   "source": [
    "options = Options()\n",
    "options.headless = False\n",
    "driver = webdriver.Chrome(ChromeDriverManager().install(), chrome_options = options)\n",
    "driver.get(newindianexpress_url)\n",
    "time.sleep(30)\n",
    "articles_1 = driver.find_elements_by_class_name('tr-topic')\n",
    "headlines_text = []\n",
    "for i in articles_1:\n",
    "    print(i.text)\n",
    "    headlines_text.append(i.text)\n",
    "time.sleep(10)\n",
    "driver.find_element_by_xpath('/html/body/section[2]/div/div/div[1]/div/div/div/div/div[2]/a[2]').click()\n",
    "time.sleep(20)\n",
    "articles_2 = driver.find_elements_by_class_name('tr-topic')\n",
    "for i in articles_2:\n",
    "    print(i.text)\n",
    "    headlines_text.append(i.text)\n",
    "time.sleep(10)\n",
    "driver.find_element_by_xpath('/html/body/section[2]/div/div/div[1]/div/div/div/div/div[2]/a[4]').click()\n",
    "time.sleep(20)\n",
    "articles_3 = driver.find_elements_by_class_name('tr-topic')\n",
    "for i in articles_3:\n",
    "    print(i.text)\n",
    "    headlines_text.append(i.text)"
   ]
  },
  {
   "cell_type": "code",
   "execution_count": 8,
   "metadata": {},
   "outputs": [],
   "source": [
    "driver.quit()"
   ]
  },
  {
   "cell_type": "code",
   "execution_count": 9,
   "metadata": {},
   "outputs": [],
   "source": [
    "import re"
   ]
  },
  {
   "cell_type": "code",
   "execution_count": 10,
   "metadata": {},
   "outputs": [],
   "source": [
    "headlines_title = []\n",
    "headlines_description = []\n",
    "for i in range(len(headlines_text)):\n",
    "    temp_text = re.split(r'\\n', headlines_text[i])\n",
    "    headlines_title.append(temp_text[0])\n",
    "    headlines_description.append(temp_text[1])"
   ]
  },
  {
   "cell_type": "code",
   "execution_count": 11,
   "metadata": {},
   "outputs": [],
   "source": [
    "for i in range(min(50,len(headlines_text))):\n",
    "    with open(f\"newsexp/newsexp_{i}.txt\",'w') as file:\n",
    "        file.write(headlines_title[i])\n",
    "        file.write(\"\\n\")\n",
    "        file.write(headlines_description[i])"
   ]
  },
  {
   "cell_type": "code",
   "execution_count": null,
   "metadata": {},
   "outputs": [],
   "source": []
  }
 ],
 "metadata": {
  "kernelspec": {
   "display_name": "Python 3.8.5 64-bit",
   "language": "python",
   "name": "python3"
  },
  "language_info": {
   "codemirror_mode": {
    "name": "ipython",
    "version": 3
   },
   "file_extension": ".py",
   "mimetype": "text/x-python",
   "name": "python",
   "nbconvert_exporter": "python",
   "pygments_lexer": "ipython3",
   "version": "3.8.5"
  },
  "orig_nbformat": 4,
  "vscode": {
   "interpreter": {
    "hash": "3d672846ab64b82076aed6296bcd726f37be2436147769694f382e623919a046"
   }
  }
 },
 "nbformat": 4,
 "nbformat_minor": 2
}
