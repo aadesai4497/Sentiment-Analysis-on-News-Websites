{
 "cells": [
  {
   "cell_type": "code",
   "execution_count": 1,
   "metadata": {},
   "outputs": [
    {
     "name": "stderr",
     "output_type": "stream",
     "text": [
      "[nltk_data] Downloading package wordnet to\n",
      "[nltk_data]     C:\\Users\\Chetan\\AppData\\Roaming\\nltk_data...\n",
      "[nltk_data]   Package wordnet is already up-to-date!\n"
     ]
    },
    {
     "data": {
      "text/plain": [
       "True"
      ]
     },
     "execution_count": 1,
     "metadata": {},
     "output_type": "execute_result"
    }
   ],
   "source": [
    "#libraries for data extraction\n",
    "import os\n",
    "from selenium import webdriver\n",
    "from webdriver_manager.chrome import ChromeDriverManager\n",
    "from selenium.webdriver.chrome.options import Options\n",
    "from selenium.webdriver import ActionChains\n",
    "import bs4\n",
    "import time\n",
    "import requests\n",
    "import warnings\n",
    "warnings.filterwarnings(\"ignore\")\n",
    "\n",
    "import re,string,unicodedata\n",
    "import seaborn as sns\n",
    "import numpy as np\n",
    "import matplotlib.pyplot as plt\n",
    "import pandas as pd\n",
    "\n",
    "# NLP Libs\n",
    "import nltk\n",
    "from nltk.corpus import stopwords\n",
    "from nltk.stem.porter import PorterStemmer\n",
    "from nltk.stem import WordNetLemmatizer\n",
    "from sklearn.feature_extraction.text import CountVectorizer\n",
    "from sklearn.feature_extraction.text import TfidfVectorizer\n",
    "from sklearn.feature_extraction.text import ENGLISH_STOP_WORDS\n",
    "from sklearn.cluster import KMeans\n",
    "from sklearn.utils.extmath import randomized_svd\n",
    "from vaderSentiment.vaderSentiment import SentimentIntensityAnalyzer\n",
    "\n",
    "# Additional Libs\n",
    "from sklearn.metrics import classification_report,confusion_matrix,accuracy_score\n",
    "from sklearn.model_selection import train_test_split\n",
    "from string import punctuation\n",
    "from nltk import pos_tag\n",
    "from nltk.corpus import wordnet\n",
    "\n",
    "# Download corpus\n",
    "nltk.download('wordnet')"
   ]
  },
  {
   "cell_type": "code",
   "execution_count": 2,
   "metadata": {},
   "outputs": [],
   "source": [
    "keys = str(input(\"Enter a one-word keyword about the topic you want to search: \"))"
   ]
  },
  {
   "cell_type": "code",
   "execution_count": 3,
   "metadata": {},
   "outputs": [
    {
     "name": "stdout",
     "output_type": "stream",
     "text": [
      "https://indianexpress.com/?s=kashmir\n"
     ]
    }
   ],
   "source": [
    "tie_url = \"https://indianexpress.com/?s=\" + keys\n",
    "print(tie_url)"
   ]
  },
  {
   "cell_type": "code",
   "execution_count": 4,
   "metadata": {},
   "outputs": [
    {
     "name": "stderr",
     "output_type": "stream",
     "text": [
      "\n",
      "\n",
      "====== WebDriver manager ======\n",
      "Current google-chrome version is 108.0.5359\n",
      "Get LATEST driver version for 108.0.5359\n",
      "Driver [C:\\Users\\Chetan\\.wdm\\drivers\\chromedriver\\win32\\108.0.5359.71\\chromedriver.exe] found in cache\n"
     ]
    },
    {
     "name": "stdout",
     "output_type": "stream",
     "text": [
      "15\n",
      "Scared of working in Kashmir, reserved category employees protest in Jammu\n",
      "Written by Arun Sharma | Jammu Updated: 1 day ago\n",
      "Following a spate of attacks since last year targeting reserved category workers, protesters are afraid to return to work in Muslim-majority Kashmir.\n",
      "Read more: Jammu and Kashmir\n",
      "‘Who’s the Pappu now?’ Note ban to ED raids to economy, Mahua Moitra has a question for govt\n",
      "Written by Liz Mathew | New Delhi Updated: 2 days ago\n",
      "“The ruling party buys lawmakers for hundreds of crores in cash and yet members of the Opposition represent 95% of lawmakers under investigation by ED… Is ED meant to harass citizens or track down perpetrators of financial crimes?” says TMC MP.\n",
      "Read more: Lok Sabha, Mahua Moitra, Political Pulse\n",
      "Amit Shah: Disruption Congress ploy to avoid questions on China funding to Rajiv Gandhi Foundation\n",
      "Written by Liz Mathew | New Delhi Updated: 2 days ago\n",
      "The Opposition’s demand for a discussion on the reports of clashes between Indian and Chinese soldiers at the Line of Actual Control (LAC) in Tawang sector led to an abrupt adjournment of proceedings.\n",
      "Read more: amit shah, Chinese army, Indian army, Lok Sabha, Question Hour, Tawang\n",
      "Ajay Devgn says only stars can’t be blamed for Bollywood’s underwhelming performance: ‘Stars bring credibility’\n",
      "By: Entertainment Desk | New Delhi Updated: 2 days ago\n",
      "Actor Ajay Devgn’s directorial Runway 34 received more success after its release on digital platform as compared to theatrical run. The actor also spoke about how star system is being held responsible for Bollywood’s poor show in 2022.\n",
      "Read more: Ajay Devgn, Drishyam 2\n",
      "India condemns OIC secretary general’s visit to PoK, his comments on J&K\n",
      "By: Express News Service | New Delhi Updated: 2 days ago\n",
      "Taha visitted PoK during his three-day visit to Pakistan from December 10 to 12.\n",
      "Read more: Pakistan\n",
      "SS Rajamouli holds ‘high fees to actors, directors’ responsible for Hindi cinema’s poor show in 2022: ‘Hunger to succeed has come down’\n",
      "By: Entertainment Desk | New Delhi Updated: 2 days ago\n",
      "SS Rajamouli said that a filmmaker must not become ‘complacent’ if their film starts doing good business.\n",
      "Read more: RRR, SS Rajamouli\n",
      "In Gujarat, BJP manifesto committed to deradicalisation programmes – dealing with terror is more complex than a paper promise\n",
      "Written by Kabir Taneja | Updated: 2 days ago\n",
      "Kabir Taneja writes: The legal systems in India lag when it comes to the fast-adapting formats of radicalisation. Policy can seldom keep up with technology.\n",
      "Read more: BJP, Gujarat, Gujarat Polls 2022\n",
      "Why these winters in Delhi are not wintry enough\n",
      "By: Express News Service | New Delhi Updated: 2 days ago\n",
      "The maximum temperature on Monday, for instance, was 27.1 degrees Celsius, four degrees above the normal for this time of the year.\n",
      "Read more: delhi, Delhi winter\n",
      "Zero Hour: Adhir Ranjan Chowdhury demands debate on law and order situation\n",
      "By: Express News Service | New Delhi Updated: 2 days ago\n",
      "“I demand that in view of the deteriorating law and order situation, there needs to be a discussion on internal security in the House,” Chowdhury said.\n",
      "Read more: Adhir Ranjan Chowdhury, Winter Session of Parliament\n",
      "ITA Awards 2022 complete winners list: Varun Dhawan, Nakuul Mehta, The Kashmir Files win big\n",
      "Written by Sana Farzeen | Mumbai Updated: 3 days ago\n",
      "ITA Awards 2022 complete winners list: Varun Dhawan, Anil Kapoor, Raveena Tandon, Nakuul Mehta, Disha Parmar and Arjun Bijlani won big at the Indian Television Academy Awards.\n",
      "Latest amendment to Wildlife Protection Act continues the tendency to foster criminalisation in the garb of conservation\n",
      "Written by Saakshi Samant, Mrinalini Ravindranath | Updated: 3 days ago\n",
      "The Wildlife Protection Act has attenuated the beneficial provisions of the Forest Rights Act\n",
      "Drishyam 2 box office: Ajay Devgn and Tabu’s film has a victorious fourth weekend, Kajol’s Salaam Venky struggles\n",
      "By: Entertainment Desk | New Delhi Updated: 3 days ago\n",
      "Drishyam 2 box office: Ajay Devgn and Tabu’s film has a victorious fourth weekend, while Kajol’s Salaam Venky puts up a tough fight.\n",
      "Temperature in Delhi likely to fall over the week ahead: IMD\n",
      "By: Express News Service | New Delhi Updated: 3 days ago\n",
      "The air quality in Delhi has remained in the ‘very poor’ category over the past three days. Air Quality Index (AQI) on Sunday was 306. AQI between 301 and 400 is considered to be ‘very poor’.\n",
      "Read more: Delhi weather today\n",
      "Imran Khan’s party threatens to dissolve Punjab and KPK assemblies if govt fails to announce election dates by Dec 20\n",
      "By: PTI | Islamabad Updated: 3 days ago\n",
      "Imran Khan, 70, had last month announced that his lawmakers will resign from the provincial assemblies as he withdrew a threat to march on the capital Islamabad by saying that it would result in destruction.\n",
      "Read more: Imran Khan\n",
      "It’s unfair to criticise Jawaharlal Nehru for rejecting Kashmir Maharaja Hari Singh’s initial offer to accede to India\n",
      "Written by Chandrashekhar Dasgupta | Updated: 3 days ago\n",
      "Nehru had been urging the Maharaja to induct Sheikh Abdullah, the leader of the secular National Conference, into the state government in order to ensure popular support for the administration. The Maharaja indicated that he was not prepared to do so\n",
      "Read more: Express Premium, Jammu and Kashmir\n",
      "30\n",
      "30\n"
     ]
    }
   ],
   "source": [
    "options = Options()\n",
    "options.headless = False\n",
    "driver = webdriver.Chrome(ChromeDriverManager().install(), chrome_options = options)\n",
    "driver.get(tie_url)\n",
    "time.sleep(10)\n",
    "try:\n",
    "    driver.find_element(By.ID, 'moe-dontallow_button')\n",
    "except:\n",
    "    pass\n",
    "\n",
    "headlines_text = []\n",
    "headlines_text_1 = driver.find_elements_by_class_name('details')\n",
    "count = 0\n",
    "for i in headlines_text_1:\n",
    "    #print(i.text)\n",
    "    headlines_text.append(i.text)\n",
    "    count += 1\n",
    "print(count)\n",
    "driver.find_element_by_xpath('/html/body/div[3]/div[5]/div/div/div[1]/div[3]/div[16]/ul/li[6]/a').click()\n",
    "time.sleep(10)\n",
    "headlines_text_2 = driver.find_elements_by_class_name('details')\n",
    "for i in headlines_text_2:\n",
    "    print(i.text)\n",
    "    headlines_text.append(i.text)\n",
    "    count += 1\n",
    "print(count)\n",
    "print(len(headlines_text))"
   ]
  },
  {
   "cell_type": "code",
   "execution_count": 5,
   "metadata": {},
   "outputs": [],
   "source": [
    "import re"
   ]
  },
  {
   "cell_type": "code",
   "execution_count": 6,
   "metadata": {},
   "outputs": [
    {
     "data": {
      "text/plain": [
       "[['Rs 3 lakh crore for Northeast border roads: Nitin Gadkari at Express Adda',\n",
       "  'By: Express News Service | New Delhi Updated: 1 hour ago',\n",
       "  'Gadkari said strategic connectivity projects are coming up in all border areas, linking to the national highway network.',\n",
       "  'Read more: Nitin Gadkari, Northeast, Tawang, tawang firing'],\n",
       " ['House panel for urgent measures to improve living conditions at CRPF camp in Srinagar',\n",
       "  'Written by Mahender Singh Manral | New Delhi Updated: 8 hours ago',\n",
       "  'The Parliamentary Standing Committee on Home Affairs headed by BJP’s Rajya Sabha member Brijlal had tabled its report in the Upper House on Tuesday.',\n",
       "  'Read more: Central Reserve Police Force'],\n",
       " ['‘Next time, research more seriously’: Anurag Kashyap responds to Vivek Agnihotri’s ‘Bollywood’s one & only Milord’ tweet',\n",
       "  'By: PTI | Mumbai Updated: 8 hours ago',\n",
       "  'Anurag Kashyap, who has been maintaining a low profile on Twitter for the last month, spoke out on Wednesday after Vivek Agnihotri shared a screenshot of a purported conversation at a roundtable organised by a digital media outlet.'],\n",
       " ['UPSC Key- December 14, 2022: Why you should read ‘Tawang and Yangtse’ or ‘Fusion Energy’ or ‘Family Pehchan patra for J&K Residents’ for UPSC CSE',\n",
       "  'Written by Priya Kumari Shukla | Hyderabad Updated: 9 hours ago',\n",
       "  'Exclusive for Subscribers from Monday to Friday: The Indian Express UPSC Key December 14, 2022 will help you prepare for the Civil Services and other competitive examinations with cues on how to read and understand content from the most authoritative news source in India.',\n",
       "  'Read more: Express Premium, UPSC, UPSC Civil Services, UPSC Key'],\n",
       " ['Vijay tops most popular Tamil stars list, Ajith in second position',\n",
       "  'By: Entertainment Desk | Bengaluru Updated: 13 hours ago',\n",
       "  'Vijay overtakes Ajith, Suriya, Kamal Haasan and Rajinikanth to become the most popular male superstar in Tamil cinema.',\n",
       "  'Read more: Ajith Kumar, Kamal Haasan, Rajinikanth, suriya, Vijay'],\n",
       " ['Paparazzi answers how they find whereabouts of celebs, if stars pay them: ‘They never pay’',\n",
       "  'By: Entertainment Desk | New Delhi Updated: 15 hours ago',\n",
       "  'Celebrities get clicked at all hours of the day and the people behind the cameras talk about the growing culture of paparazzi in India.'],\n",
       " ['Veteran alumni of 39th course of NDA to reunite today',\n",
       "  'By: Express News Service | Pune Updated: 16 hours ago',\n",
       "  'The golden jubilee celebrations of the passing out of the 39th course of the NDA were postponed due to the pandemic. It will be held on December 15 and 16.',\n",
       "  'Read more: pune'],\n",
       " ['SC to consider listing of pleas challenging abrogation of Article 370 giving special status to J&K',\n",
       "  'By: PTI | New Delhi Updated: 16 hours ago',\n",
       "  '“We will examine and give a date,” a bench comprising Chief Justice D Y Chandrachud and Justice P S Narasimha said when intervenor Radha Kumar, an academic and author, sought early listing of the petitions on the issue.',\n",
       "  'Read more: Abrogation of Article 370, India Supreme Court'],\n",
       " ['When Karan Johar had a ‘loose motion attack’ while shooting Bole Chudiyan, fainted: ‘There was a drip in my hand, Amitabh Bachchan sitting next to me’',\n",
       "  'By: Entertainment Desk | New Delhi Updated: 16 hours ago',\n",
       "  'Karan Johar recalled that he was so nervous to shoot with Amitabh Bachchan on Kabhi Khushi Kabhie Gham that he fainted on the sets of the film.',\n",
       "  'Read more: Amitabh Bachchan, Karan Johar'],\n",
       " ['RRR, KGF 2, Kantara among IMDb’s 10 most popular Indian movies of 2022; The Kashmir Files only Hindi film to make it to list',\n",
       "  'By: Entertainment Desk | New Delhi Updated: 17 hours ago',\n",
       "  'The Kashmir Files is the only Hindi film to make it to the list of Top 10 most popular Indian movies of 2022 as per IMDb.',\n",
       "  'Read more: KGF, RRR, The Kashmir Files'],\n",
       " ['Maharashtra panel tracking intercaste, interfaith marriages: Who is Mangal Prabhat Lodha, the minister heading it?',\n",
       "  'By: Express News Service | Mumbai Updated: 18 hours ago',\n",
       "  'Lodha was recently in the eye of a storm over comments on Shivaji. The son of former Guwahati High Court chief justice Guman Lal Lodha, he made it big in the real-estate business.',\n",
       "  'Read more: intercaste marriages, interfaith marriage, Mangal Prabhat Lodha, Political Pulse'],\n",
       " ['Vivek Agnihotri takes a dig at Anurag Kashyap’s comment on Kantara, calls him ‘Bollywood’s one and only milord’',\n",
       "  'By: Entertainment Desk | Mumbai Updated: 19 hours ago',\n",
       "  'Vivek Agnihotri took to social media to take a dig at Anurag Kashyap’s comment on the success of Kantara and Pushpa, and how that could destroy the industry.',\n",
       "  'Read more: Anurag Kashyap, Vivek Agnihotri'],\n",
       " ['A year after murder of Sikh leader in Delhi, accused nabbed from Jammu',\n",
       "  'Written by Arun Sharma | Jammu Updated: 1 day ago',\n",
       "  'SSP Jammu Chandan Kohli said Harpreet opened fire in a bid to escape, but was overpowered by the police.'],\n",
       " ['In G20 days, govt plans to bust touts, louts with tourist police at key spots',\n",
       "  'Written by Divya A | New Delhi Updated: 1 day ago',\n",
       "  'To resolve issues of uniformity and coordination, the government had organised the DGPs’ conference on October 19, ahead of India’s G20 Presidency, to implement the uniform tourist police scheme based on a report submitted by Bureau of Police Research and Development (BPR&D).',\n",
       "  'Read more: G20'],\n",
       " ['How J&K’s proposed family ID will work, and why it is being criticised',\n",
       "  'Written by Arun Sharma | Jammu Updated: 1 day ago',\n",
       "  'According to officials, the card will be a single identifier for every family and individual in the UT that will instantly confirm their eligibility for government welfare schemes and facilitate direct transfer of benefits to their bank accounts with minimum human interference.',\n",
       "  'Read more: Explained Politics, Express Explained, Jammu and Kashmir'],\n",
       " ['Scared of working in Kashmir, reserved category employees protest in Jammu',\n",
       "  'Written by Arun Sharma | Jammu Updated: 1 day ago',\n",
       "  'Following a spate of attacks since last year targeting reserved category workers, protesters are afraid to return to work in Muslim-majority Kashmir.',\n",
       "  'Read more: Jammu and Kashmir'],\n",
       " ['‘Who’s the Pappu now?’ Note ban to ED raids to economy, Mahua Moitra has a question for govt',\n",
       "  'Written by Liz Mathew | New Delhi Updated: 2 days ago',\n",
       "  '“The ruling party buys lawmakers for hundreds of crores in cash and yet members of the Opposition represent 95% of lawmakers under investigation by ED… Is ED meant to harass citizens or track down perpetrators of financial crimes?” says TMC MP.',\n",
       "  'Read more: Lok Sabha, Mahua Moitra, Political Pulse'],\n",
       " ['Amit Shah: Disruption Congress ploy to avoid questions on China funding to Rajiv Gandhi Foundation',\n",
       "  'Written by Liz Mathew | New Delhi Updated: 2 days ago',\n",
       "  'The Opposition’s demand for a discussion on the reports of clashes between Indian and Chinese soldiers at the Line of Actual Control (LAC) in Tawang sector led to an abrupt adjournment of proceedings.',\n",
       "  'Read more: amit shah, Chinese army, Indian army, Lok Sabha, Question Hour, Tawang'],\n",
       " ['Ajay Devgn says only stars can’t be blamed for Bollywood’s underwhelming performance: ‘Stars bring credibility’',\n",
       "  'By: Entertainment Desk | New Delhi Updated: 2 days ago',\n",
       "  'Actor Ajay Devgn’s directorial Runway 34 received more success after its release on digital platform as compared to theatrical run. The actor also spoke about how star system is being held responsible for Bollywood’s poor show in 2022.',\n",
       "  'Read more: Ajay Devgn, Drishyam 2'],\n",
       " ['India condemns OIC secretary general’s visit to PoK, his comments on J&K',\n",
       "  'By: Express News Service | New Delhi Updated: 2 days ago',\n",
       "  'Taha visitted PoK during his three-day visit to Pakistan from December 10 to 12.',\n",
       "  'Read more: Pakistan'],\n",
       " ['SS Rajamouli holds ‘high fees to actors, directors’ responsible for Hindi cinema’s poor show in 2022: ‘Hunger to succeed has come down’',\n",
       "  'By: Entertainment Desk | New Delhi Updated: 2 days ago',\n",
       "  'SS Rajamouli said that a filmmaker must not become ‘complacent’ if their film starts doing good business.',\n",
       "  'Read more: RRR, SS Rajamouli'],\n",
       " ['In Gujarat, BJP manifesto committed to deradicalisation programmes – dealing with terror is more complex than a paper promise',\n",
       "  'Written by Kabir Taneja | Updated: 2 days ago',\n",
       "  'Kabir Taneja writes: The legal systems in India lag when it comes to the fast-adapting formats of radicalisation. Policy can seldom keep up with technology.',\n",
       "  'Read more: BJP, Gujarat, Gujarat Polls 2022'],\n",
       " ['Why these winters in Delhi are not wintry enough',\n",
       "  'By: Express News Service | New Delhi Updated: 2 days ago',\n",
       "  'The maximum temperature on Monday, for instance, was 27.1 degrees Celsius, four degrees above the normal for this time of the year.',\n",
       "  'Read more: delhi, Delhi winter'],\n",
       " ['Zero Hour: Adhir Ranjan Chowdhury demands debate on law and order situation',\n",
       "  'By: Express News Service | New Delhi Updated: 2 days ago',\n",
       "  '“I demand that in view of the deteriorating law and order situation, there needs to be a discussion on internal security in the House,” Chowdhury said.',\n",
       "  'Read more: Adhir Ranjan Chowdhury, Winter Session of Parliament'],\n",
       " ['ITA Awards 2022 complete winners list: Varun Dhawan, Nakuul Mehta, The Kashmir Files win big',\n",
       "  'Written by Sana Farzeen | Mumbai Updated: 3 days ago',\n",
       "  'ITA Awards 2022 complete winners list: Varun Dhawan, Anil Kapoor, Raveena Tandon, Nakuul Mehta, Disha Parmar and Arjun Bijlani won big at the Indian Television Academy Awards.'],\n",
       " ['Latest amendment to Wildlife Protection Act continues the tendency to foster criminalisation in the garb of conservation',\n",
       "  'Written by Saakshi Samant, Mrinalini Ravindranath | Updated: 3 days ago',\n",
       "  'The Wildlife Protection Act has attenuated the beneficial provisions of the Forest Rights Act'],\n",
       " ['Drishyam 2 box office: Ajay Devgn and Tabu’s film has a victorious fourth weekend, Kajol’s Salaam Venky struggles',\n",
       "  'By: Entertainment Desk | New Delhi Updated: 3 days ago',\n",
       "  'Drishyam 2 box office: Ajay Devgn and Tabu’s film has a victorious fourth weekend, while Kajol’s Salaam Venky puts up a tough fight.'],\n",
       " ['Temperature in Delhi likely to fall over the week ahead: IMD',\n",
       "  'By: Express News Service | New Delhi Updated: 3 days ago',\n",
       "  'The air quality in Delhi has remained in the ‘very poor’ category over the past three days. Air Quality Index (AQI) on Sunday was 306. AQI between 301 and 400 is considered to be ‘very poor’.',\n",
       "  'Read more: Delhi weather today'],\n",
       " ['Imran Khan’s party threatens to dissolve Punjab and KPK assemblies if govt fails to announce election dates by Dec 20',\n",
       "  'By: PTI | Islamabad Updated: 3 days ago',\n",
       "  'Imran Khan, 70, had last month announced that his lawmakers will resign from the provincial assemblies as he withdrew a threat to march on the capital Islamabad by saying that it would result in destruction.',\n",
       "  'Read more: Imran Khan'],\n",
       " ['It’s unfair to criticise Jawaharlal Nehru for rejecting Kashmir Maharaja Hari Singh’s initial offer to accede to India',\n",
       "  'Written by Chandrashekhar Dasgupta | Updated: 3 days ago',\n",
       "  'Nehru had been urging the Maharaja to induct Sheikh Abdullah, the leader of the secular National Conference, into the state government in order to ensure popular support for the administration. The Maharaja indicated that he was not prepared to do so',\n",
       "  'Read more: Express Premium, Jammu and Kashmir']]"
      ]
     },
     "execution_count": 6,
     "metadata": {},
     "output_type": "execute_result"
    }
   ],
   "source": [
    "all_content = []\n",
    "for i in range(len(headlines_text)):\n",
    "    all_content.append(re.split(r'\\n', headlines_text[i]))\n",
    "all_content"
   ]
  },
  {
   "cell_type": "code",
   "execution_count": 7,
   "metadata": {},
   "outputs": [],
   "source": [
    "headlines_text = []\n",
    "headlines_description = []\n",
    "for i in range(len(all_content)):\n",
    "    headlines_text.append(all_content[i][0])\n",
    "    headlines_description.append(all_content[i][2])"
   ]
  },
  {
   "cell_type": "code",
   "execution_count": 8,
   "metadata": {},
   "outputs": [],
   "source": [
    "for i in range(len(headlines_text)):\n",
    "    with open(f\"indianexpress/indianexpress_{i}.txt\",'w') as file:\n",
    "        file.write(headlines_text[i])\n",
    "        file.write(\"\\n\")\n",
    "        file.write(headlines_description[i])"
   ]
  },
  {
   "cell_type": "code",
   "execution_count": 9,
   "metadata": {},
   "outputs": [],
   "source": [
    "driver.quit()"
   ]
  }
 ],
 "metadata": {
  "kernelspec": {
   "display_name": "Python 3.8.5 64-bit",
   "language": "python",
   "name": "python3"
  },
  "language_info": {
   "codemirror_mode": {
    "name": "ipython",
    "version": 3
   },
   "file_extension": ".py",
   "mimetype": "text/x-python",
   "name": "python",
   "nbconvert_exporter": "python",
   "pygments_lexer": "ipython3",
   "version": "3.8.5"
  },
  "orig_nbformat": 4,
  "vscode": {
   "interpreter": {
    "hash": "3d672846ab64b82076aed6296bcd726f37be2436147769694f382e623919a046"
   }
  }
 },
 "nbformat": 4,
 "nbformat_minor": 2
}
